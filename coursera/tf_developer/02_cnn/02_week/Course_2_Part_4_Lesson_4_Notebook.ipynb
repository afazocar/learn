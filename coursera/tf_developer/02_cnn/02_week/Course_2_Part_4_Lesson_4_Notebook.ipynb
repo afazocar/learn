{
  "nbformat": 4,
  "nbformat_minor": 0,
  "metadata": {
    "accelerator": "GPU",
    "colab": {
      "name": "Course 2 - Part 4 - Lesson 4 - Notebook.ipynb",
      "provenance": [],
      "collapsed_sections": [],
      "include_colab_link": true
    },
    "kernelspec": {
      "display_name": "Python 3",
      "name": "python3"
    }
  },
  "cells": [
    {
      "cell_type": "markdown",
      "metadata": {
        "id": "view-in-github",
        "colab_type": "text"
      },
      "source": [
        "<a href=\"https://colab.research.google.com/github/afazocar/learn/blob/main/coursera/tf_developer/02_cnn/02_week/Course_2_Part_4_Lesson_4_Notebook.ipynb\" target=\"_parent\"><img src=\"https://colab.research.google.com/assets/colab-badge.svg\" alt=\"Open In Colab\"/></a>"
      ]
    },
    {
      "cell_type": "markdown",
      "metadata": {
        "id": "rX8mhOLljYeM"
      },
      "source": [
        "##### Copyright 2019 The TensorFlow Authors."
      ]
    },
    {
      "cell_type": "code",
      "metadata": {
        "cellView": "form",
        "id": "BZSlp3DAjdYf"
      },
      "source": [
        "#@title Licensed under the Apache License, Version 2.0 (the \"License\");\n",
        "# you may not use this file except in compliance with the License.\n",
        "# You may obtain a copy of the License at\n",
        "#\n",
        "# https://www.apache.org/licenses/LICENSE-2.0\n",
        "#\n",
        "# Unless required by applicable law or agreed to in writing, software\n",
        "# distributed under the License is distributed on an \"AS IS\" BASIS,\n",
        "# WITHOUT WARRANTIES OR CONDITIONS OF ANY KIND, either express or implied.\n",
        "# See the License for the specific language governing permissions and\n",
        "# limitations under the License."
      ],
      "execution_count": null,
      "outputs": []
    },
    {
      "cell_type": "code",
      "metadata": {
        "id": "RXZT2UsyIVe_",
        "colab": {
          "base_uri": "https://localhost:8080/"
        },
        "outputId": "141e613e-2acc-48f9-abb2-af1092c354d9"
      },
      "source": [
        "!wget --no-check-certificate \\\n",
        "    https://storage.googleapis.com/laurencemoroney-blog.appspot.com/horse-or-human.zip \\\n",
        "    -O /tmp/horse-or-human.zip\n",
        "\n",
        "!wget --no-check-certificate \\\n",
        "    https://storage.googleapis.com/laurencemoroney-blog.appspot.com/validation-horse-or-human.zip \\\n",
        "    -O /tmp/validation-horse-or-human.zip\n",
        "  \n",
        "import os\n",
        "import zipfile\n",
        "\n",
        "local_zip = '/tmp/horse-or-human.zip'\n",
        "zip_ref = zipfile.ZipFile(local_zip, 'r')\n",
        "zip_ref.extractall('/tmp/horse-or-human')\n",
        "local_zip = '/tmp/validation-horse-or-human.zip'\n",
        "zip_ref = zipfile.ZipFile(local_zip, 'r')\n",
        "zip_ref.extractall('/tmp/validation-horse-or-human')\n",
        "zip_ref.close()\n",
        "# Directory with our training horse pictures\n",
        "train_horse_dir = os.path.join('/tmp/horse-or-human/horses')\n",
        "\n",
        "# Directory with our training human pictures\n",
        "train_human_dir = os.path.join('/tmp/horse-or-human/humans')\n",
        "\n",
        "# Directory with our training horse pictures\n",
        "validation_horse_dir = os.path.join('/tmp/validation-horse-or-human/horses')\n",
        "\n",
        "# Directory with our training human pictures\n",
        "validation_human_dir = os.path.join('/tmp/validation-horse-or-human/humans')"
      ],
      "execution_count": 1,
      "outputs": [
        {
          "output_type": "stream",
          "text": [
            "--2021-01-20 00:27:36--  https://storage.googleapis.com/laurencemoroney-blog.appspot.com/horse-or-human.zip\n",
            "Resolving storage.googleapis.com (storage.googleapis.com)... 74.125.142.128, 74.125.195.128, 74.125.20.128, ...\n",
            "Connecting to storage.googleapis.com (storage.googleapis.com)|74.125.142.128|:443... connected.\n",
            "HTTP request sent, awaiting response... 200 OK\n",
            "Length: 149574867 (143M) [application/zip]\n",
            "Saving to: ‘/tmp/horse-or-human.zip’\n",
            "\n",
            "/tmp/horse-or-human 100%[===================>] 142.65M  81.5MB/s    in 1.8s    \n",
            "\n",
            "2021-01-20 00:27:38 (81.5 MB/s) - ‘/tmp/horse-or-human.zip’ saved [149574867/149574867]\n",
            "\n",
            "--2021-01-20 00:27:38--  https://storage.googleapis.com/laurencemoroney-blog.appspot.com/validation-horse-or-human.zip\n",
            "Resolving storage.googleapis.com (storage.googleapis.com)... 74.125.142.128, 74.125.195.128, 74.125.20.128, ...\n",
            "Connecting to storage.googleapis.com (storage.googleapis.com)|74.125.142.128|:443... connected.\n",
            "HTTP request sent, awaiting response... 200 OK\n",
            "Length: 11480187 (11M) [application/zip]\n",
            "Saving to: ‘/tmp/validation-horse-or-human.zip’\n",
            "\n",
            "/tmp/validation-hor 100%[===================>]  10.95M  19.9MB/s    in 0.5s    \n",
            "\n",
            "2021-01-20 00:27:39 (19.9 MB/s) - ‘/tmp/validation-horse-or-human.zip’ saved [11480187/11480187]\n",
            "\n"
          ],
          "name": "stdout"
        }
      ]
    },
    {
      "cell_type": "markdown",
      "metadata": {
        "id": "5oqBkNBJmtUv"
      },
      "source": [
        "## Building a Small Model from Scratch\n",
        "\n",
        "But before we continue, let's start defining the model:\n",
        "\n",
        "Step 1 will be to import tensorflow."
      ]
    },
    {
      "cell_type": "code",
      "metadata": {
        "id": "qvfZg3LQbD-5"
      },
      "source": [
        "import tensorflow as tf"
      ],
      "execution_count": 2,
      "outputs": []
    },
    {
      "cell_type": "markdown",
      "metadata": {
        "id": "BnhYCP4tdqjC"
      },
      "source": [
        "We then add convolutional layers as in the previous example, and flatten the final result to feed into the densely connected layers."
      ]
    },
    {
      "cell_type": "markdown",
      "metadata": {
        "id": "gokG5HKpdtzm"
      },
      "source": [
        "Finally we add the densely connected layers. \n",
        "\n",
        "Note that because we are facing a two-class classification problem, i.e. a *binary classification problem*, we will end our network with a [*sigmoid* activation](https://wikipedia.org/wiki/Sigmoid_function), so that the output of our network will be a single scalar between 0 and 1, encoding the probability that the current image is class 1 (as opposed to class 0)."
      ]
    },
    {
      "cell_type": "code",
      "metadata": {
        "id": "PixZ2s5QbYQ3"
      },
      "source": [
        "model = tf.keras.models.Sequential([\n",
        "    # Note the input shape is the desired size of the image 300x300 with 3 bytes color\n",
        "    # This is the first convolution\n",
        "    tf.keras.layers.Conv2D(16, (3,3), activation='relu', input_shape=(300, 300, 3)),\n",
        "    tf.keras.layers.MaxPooling2D(2, 2),\n",
        "    # The second convolution\n",
        "    tf.keras.layers.Conv2D(32, (3,3), activation='relu'),\n",
        "    tf.keras.layers.MaxPooling2D(2,2),\n",
        "    # The third convolution\n",
        "    tf.keras.layers.Conv2D(64, (3,3), activation='relu'),\n",
        "    tf.keras.layers.MaxPooling2D(2,2),\n",
        "    # The fourth convolution\n",
        "    tf.keras.layers.Conv2D(64, (3,3), activation='relu'),\n",
        "    tf.keras.layers.MaxPooling2D(2,2),\n",
        "    # The fifth convolution\n",
        "    tf.keras.layers.Conv2D(64, (3,3), activation='relu'),\n",
        "    tf.keras.layers.MaxPooling2D(2,2),\n",
        "    # Flatten the results to feed into a DNN\n",
        "    tf.keras.layers.Flatten(),\n",
        "    # 512 neuron hidden layer\n",
        "    tf.keras.layers.Dense(512, activation='relu'),\n",
        "    # Only 1 output neuron. It will contain a value from 0-1 where 0 for 1 class ('horses') and 1 for the other ('humans')\n",
        "    tf.keras.layers.Dense(1, activation='sigmoid')\n",
        "])"
      ],
      "execution_count": 3,
      "outputs": []
    },
    {
      "cell_type": "code",
      "metadata": {
        "id": "8DHWhFP_uhq3"
      },
      "source": [
        "from tensorflow.keras.optimizers import RMSprop\n",
        "\n",
        "model.compile(loss='binary_crossentropy',\n",
        "              optimizer=RMSprop(lr=1e-4),\n",
        "              metrics=['accuracy'])"
      ],
      "execution_count": 4,
      "outputs": []
    },
    {
      "cell_type": "code",
      "metadata": {
        "id": "ClebU9NJg99G",
        "colab": {
          "base_uri": "https://localhost:8080/"
        },
        "outputId": "55e30116-49da-43f8-ee04-878ee21b5525"
      },
      "source": [
        "from tensorflow.keras.preprocessing.image import ImageDataGenerator\n",
        "\n",
        "# All images will be rescaled by 1./255\n",
        "train_datagen = ImageDataGenerator(\n",
        "      rescale=1./255,\n",
        "      rotation_range=40,\n",
        "      width_shift_range=0.2,\n",
        "      height_shift_range=0.2,\n",
        "      shear_range=0.2,\n",
        "      zoom_range=0.2,\n",
        "      horizontal_flip=True,\n",
        "      fill_mode='nearest')\n",
        "\n",
        "validation_datagen = ImageDataGenerator(rescale=1/255)\n",
        "\n",
        "# Flow training images in batches of 128 using train_datagen generator\n",
        "train_generator = train_datagen.flow_from_directory(\n",
        "        '/tmp/horse-or-human/',  # This is the source directory for training images\n",
        "        target_size=(300, 300),  # All images will be resized to 150x150\n",
        "        batch_size=128,\n",
        "        # Since we use binary_crossentropy loss, we need binary labels\n",
        "        class_mode='binary')\n",
        "\n",
        "# Flow training images in batches of 128 using train_datagen generator\n",
        "validation_generator = validation_datagen.flow_from_directory(\n",
        "        '/tmp/validation-horse-or-human/',  # This is the source directory for training images\n",
        "        target_size=(300, 300),  # All images will be resized to 150x150\n",
        "        batch_size=32,\n",
        "        # Since we use binary_crossentropy loss, we need binary labels\n",
        "        class_mode='binary')"
      ],
      "execution_count": 5,
      "outputs": [
        {
          "output_type": "stream",
          "text": [
            "Found 1027 images belonging to 2 classes.\n",
            "Found 256 images belonging to 2 classes.\n"
          ],
          "name": "stdout"
        }
      ]
    },
    {
      "cell_type": "code",
      "metadata": {
        "id": "Fb1_lgobv81m",
        "colab": {
          "base_uri": "https://localhost:8080/"
        },
        "outputId": "5f775e84-6e1e-4b5b-84ff-bee06e0f1bb4"
      },
      "source": [
        "history = model.fit(\n",
        "      train_generator,\n",
        "      steps_per_epoch=8,  \n",
        "      epochs=100,\n",
        "      verbose=1,\n",
        "      validation_data = validation_generator,\n",
        "      validation_steps=8)"
      ],
      "execution_count": 6,
      "outputs": [
        {
          "output_type": "stream",
          "text": [
            "Epoch 1/100\n",
            "8/8 [==============================] - 27s 2s/step - loss: 0.7164 - accuracy: 0.4922 - val_loss: 0.6703 - val_accuracy: 0.5039\n",
            "Epoch 2/100\n",
            "8/8 [==============================] - 21s 3s/step - loss: 0.6734 - accuracy: 0.5908 - val_loss: 0.7201 - val_accuracy: 0.5000\n",
            "Epoch 3/100\n",
            "8/8 [==============================] - 21s 3s/step - loss: 0.6593 - accuracy: 0.6747 - val_loss: 0.6335 - val_accuracy: 0.5508\n",
            "Epoch 4/100\n",
            "8/8 [==============================] - 21s 3s/step - loss: 0.6245 - accuracy: 0.7079 - val_loss: 0.6606 - val_accuracy: 0.5469\n",
            "Epoch 5/100\n",
            "8/8 [==============================] - 21s 3s/step - loss: 0.5861 - accuracy: 0.7209 - val_loss: 0.8280 - val_accuracy: 0.5156\n",
            "Epoch 6/100\n",
            "8/8 [==============================] - 21s 3s/step - loss: 0.5801 - accuracy: 0.7001 - val_loss: 0.5645 - val_accuracy: 0.6641\n",
            "Epoch 7/100\n",
            "8/8 [==============================] - 21s 3s/step - loss: 0.5510 - accuracy: 0.7215 - val_loss: 0.5827 - val_accuracy: 0.6289\n",
            "Epoch 8/100\n",
            "8/8 [==============================] - 21s 3s/step - loss: 0.5501 - accuracy: 0.7462 - val_loss: 0.8873 - val_accuracy: 0.5312\n",
            "Epoch 9/100\n",
            "8/8 [==============================] - 21s 3s/step - loss: 0.5383 - accuracy: 0.7319 - val_loss: 0.7615 - val_accuracy: 0.5586\n",
            "Epoch 10/100\n",
            "8/8 [==============================] - 21s 3s/step - loss: 0.5141 - accuracy: 0.7600 - val_loss: 0.9099 - val_accuracy: 0.5391\n",
            "Epoch 11/100\n",
            "8/8 [==============================] - 23s 3s/step - loss: 0.4831 - accuracy: 0.7878 - val_loss: 0.8316 - val_accuracy: 0.5703\n",
            "Epoch 12/100\n",
            "8/8 [==============================] - 21s 3s/step - loss: 0.4913 - accuracy: 0.7925 - val_loss: 0.8701 - val_accuracy: 0.5742\n",
            "Epoch 13/100\n",
            "8/8 [==============================] - 21s 3s/step - loss: 0.4862 - accuracy: 0.7728 - val_loss: 1.2158 - val_accuracy: 0.5352\n",
            "Epoch 14/100\n",
            "8/8 [==============================] - 21s 3s/step - loss: 0.4892 - accuracy: 0.7609 - val_loss: 0.6198 - val_accuracy: 0.6914\n",
            "Epoch 15/100\n",
            "8/8 [==============================] - 21s 3s/step - loss: 0.4966 - accuracy: 0.7583 - val_loss: 0.9888 - val_accuracy: 0.5742\n",
            "Epoch 16/100\n",
            "8/8 [==============================] - 21s 3s/step - loss: 0.4601 - accuracy: 0.7786 - val_loss: 0.9650 - val_accuracy: 0.5898\n",
            "Epoch 17/100\n",
            "8/8 [==============================] - 21s 3s/step - loss: 0.4616 - accuracy: 0.7645 - val_loss: 1.4094 - val_accuracy: 0.5352\n",
            "Epoch 18/100\n",
            "8/8 [==============================] - 21s 3s/step - loss: 0.4847 - accuracy: 0.7788 - val_loss: 1.1145 - val_accuracy: 0.5742\n",
            "Epoch 19/100\n",
            "8/8 [==============================] - 21s 3s/step - loss: 0.4258 - accuracy: 0.7995 - val_loss: 1.0576 - val_accuracy: 0.5859\n",
            "Epoch 20/100\n",
            "8/8 [==============================] - 23s 3s/step - loss: 0.3990 - accuracy: 0.8411 - val_loss: 1.5341 - val_accuracy: 0.5508\n",
            "Epoch 21/100\n",
            "8/8 [==============================] - 21s 3s/step - loss: 0.4276 - accuracy: 0.7880 - val_loss: 1.1460 - val_accuracy: 0.5859\n",
            "Epoch 22/100\n",
            "8/8 [==============================] - 21s 3s/step - loss: 0.4168 - accuracy: 0.8247 - val_loss: 0.7617 - val_accuracy: 0.7148\n",
            "Epoch 23/100\n",
            "8/8 [==============================] - 21s 3s/step - loss: 0.4767 - accuracy: 0.7713 - val_loss: 2.2218 - val_accuracy: 0.5039\n",
            "Epoch 24/100\n",
            "8/8 [==============================] - 21s 3s/step - loss: 0.3553 - accuracy: 0.8496 - val_loss: 0.8186 - val_accuracy: 0.7070\n",
            "Epoch 25/100\n",
            "8/8 [==============================] - 21s 3s/step - loss: 0.4658 - accuracy: 0.7729 - val_loss: 1.3244 - val_accuracy: 0.5898\n",
            "Epoch 26/100\n",
            "8/8 [==============================] - 21s 3s/step - loss: 0.3957 - accuracy: 0.8389 - val_loss: 1.6696 - val_accuracy: 0.5586\n",
            "Epoch 27/100\n",
            "8/8 [==============================] - 21s 3s/step - loss: 0.4408 - accuracy: 0.8011 - val_loss: 1.0547 - val_accuracy: 0.6250\n",
            "Epoch 28/100\n",
            "8/8 [==============================] - 21s 3s/step - loss: 0.3760 - accuracy: 0.8507 - val_loss: 1.7174 - val_accuracy: 0.5547\n",
            "Epoch 29/100\n",
            "8/8 [==============================] - 23s 3s/step - loss: 0.3712 - accuracy: 0.8252 - val_loss: 1.2465 - val_accuracy: 0.6211\n",
            "Epoch 30/100\n",
            "8/8 [==============================] - 21s 3s/step - loss: 0.4231 - accuracy: 0.8125 - val_loss: 1.5197 - val_accuracy: 0.5625\n",
            "Epoch 31/100\n",
            "8/8 [==============================] - 21s 3s/step - loss: 0.3468 - accuracy: 0.8554 - val_loss: 1.2912 - val_accuracy: 0.6094\n",
            "Epoch 32/100\n",
            "8/8 [==============================] - 21s 3s/step - loss: 0.3419 - accuracy: 0.8508 - val_loss: 1.4979 - val_accuracy: 0.5859\n",
            "Epoch 33/100\n",
            "8/8 [==============================] - 21s 3s/step - loss: 0.4315 - accuracy: 0.8379 - val_loss: 1.6220 - val_accuracy: 0.5781\n",
            "Epoch 34/100\n",
            "8/8 [==============================] - 21s 3s/step - loss: 0.3215 - accuracy: 0.8607 - val_loss: 1.5720 - val_accuracy: 0.6055\n",
            "Epoch 35/100\n",
            "8/8 [==============================] - 23s 3s/step - loss: 0.3002 - accuracy: 0.8764 - val_loss: 1.6166 - val_accuracy: 0.5938\n",
            "Epoch 36/100\n",
            "8/8 [==============================] - 21s 3s/step - loss: 0.2981 - accuracy: 0.8685 - val_loss: 2.3063 - val_accuracy: 0.5430\n",
            "Epoch 37/100\n",
            "8/8 [==============================] - 21s 3s/step - loss: 0.3375 - accuracy: 0.8684 - val_loss: 1.0950 - val_accuracy: 0.6328\n",
            "Epoch 38/100\n",
            "8/8 [==============================] - 21s 3s/step - loss: 0.3293 - accuracy: 0.8777 - val_loss: 1.2737 - val_accuracy: 0.6055\n",
            "Epoch 39/100\n",
            "8/8 [==============================] - 21s 3s/step - loss: 0.3599 - accuracy: 0.8429 - val_loss: 1.6325 - val_accuracy: 0.5898\n",
            "Epoch 40/100\n",
            "8/8 [==============================] - 21s 3s/step - loss: 0.3164 - accuracy: 0.8595 - val_loss: 1.6602 - val_accuracy: 0.5781\n",
            "Epoch 41/100\n",
            "8/8 [==============================] - 21s 3s/step - loss: 0.2768 - accuracy: 0.8844 - val_loss: 1.7034 - val_accuracy: 0.5820\n",
            "Epoch 42/100\n",
            "8/8 [==============================] - 21s 3s/step - loss: 0.3172 - accuracy: 0.8769 - val_loss: 1.3264 - val_accuracy: 0.6602\n",
            "Epoch 43/100\n",
            "8/8 [==============================] - 21s 3s/step - loss: 0.2905 - accuracy: 0.8723 - val_loss: 1.3734 - val_accuracy: 0.6758\n",
            "Epoch 44/100\n",
            "8/8 [==============================] - 21s 3s/step - loss: 0.2848 - accuracy: 0.8781 - val_loss: 2.3417 - val_accuracy: 0.5742\n",
            "Epoch 45/100\n",
            "8/8 [==============================] - 21s 3s/step - loss: 0.3342 - accuracy: 0.8480 - val_loss: 1.0822 - val_accuracy: 0.6992\n",
            "Epoch 46/100\n",
            "8/8 [==============================] - 23s 3s/step - loss: 0.4296 - accuracy: 0.8304 - val_loss: 1.9919 - val_accuracy: 0.5742\n",
            "Epoch 47/100\n",
            "8/8 [==============================] - 21s 3s/step - loss: 0.3134 - accuracy: 0.8568 - val_loss: 1.9505 - val_accuracy: 0.5859\n",
            "Epoch 48/100\n",
            "8/8 [==============================] - 21s 3s/step - loss: 0.2553 - accuracy: 0.9011 - val_loss: 1.8759 - val_accuracy: 0.5820\n",
            "Epoch 49/100\n",
            "8/8 [==============================] - 21s 3s/step - loss: 0.2392 - accuracy: 0.9135 - val_loss: 1.1275 - val_accuracy: 0.6875\n",
            "Epoch 50/100\n",
            "8/8 [==============================] - 21s 3s/step - loss: 0.3068 - accuracy: 0.8741 - val_loss: 2.5063 - val_accuracy: 0.5625\n",
            "Epoch 51/100\n",
            "8/8 [==============================] - 21s 3s/step - loss: 0.2708 - accuracy: 0.8995 - val_loss: 1.9564 - val_accuracy: 0.5938\n",
            "Epoch 52/100\n",
            "8/8 [==============================] - 21s 3s/step - loss: 0.2373 - accuracy: 0.9045 - val_loss: 1.9290 - val_accuracy: 0.5977\n",
            "Epoch 53/100\n",
            "8/8 [==============================] - 21s 3s/step - loss: 0.2596 - accuracy: 0.8883 - val_loss: 2.1426 - val_accuracy: 0.5625\n",
            "Epoch 54/100\n",
            "8/8 [==============================] - 21s 3s/step - loss: 0.2719 - accuracy: 0.8890 - val_loss: 3.1466 - val_accuracy: 0.5234\n",
            "Epoch 55/100\n",
            "8/8 [==============================] - 21s 3s/step - loss: 0.3078 - accuracy: 0.8634 - val_loss: 1.8147 - val_accuracy: 0.6211\n",
            "Epoch 56/100\n",
            "8/8 [==============================] - 21s 3s/step - loss: 0.3146 - accuracy: 0.8743 - val_loss: 1.5053 - val_accuracy: 0.6484\n",
            "Epoch 57/100\n",
            "8/8 [==============================] - 21s 3s/step - loss: 0.2423 - accuracy: 0.9086 - val_loss: 1.9299 - val_accuracy: 0.6172\n",
            "Epoch 58/100\n",
            "8/8 [==============================] - 21s 3s/step - loss: 0.2343 - accuracy: 0.9197 - val_loss: 1.7232 - val_accuracy: 0.6211\n",
            "Epoch 59/100\n",
            "8/8 [==============================] - 21s 3s/step - loss: 0.2522 - accuracy: 0.8961 - val_loss: 1.6776 - val_accuracy: 0.5938\n",
            "Epoch 60/100\n",
            "8/8 [==============================] - 21s 3s/step - loss: 0.2231 - accuracy: 0.9023 - val_loss: 1.5487 - val_accuracy: 0.6680\n",
            "Epoch 61/100\n",
            "8/8 [==============================] - 21s 3s/step - loss: 0.3463 - accuracy: 0.8530 - val_loss: 2.1062 - val_accuracy: 0.5938\n",
            "Epoch 62/100\n",
            "8/8 [==============================] - 21s 3s/step - loss: 0.2197 - accuracy: 0.9050 - val_loss: 3.4581 - val_accuracy: 0.5234\n",
            "Epoch 63/100\n",
            "8/8 [==============================] - 21s 3s/step - loss: 0.2554 - accuracy: 0.8902 - val_loss: 2.1836 - val_accuracy: 0.6133\n",
            "Epoch 64/100\n",
            "8/8 [==============================] - 21s 3s/step - loss: 0.2401 - accuracy: 0.9092 - val_loss: 2.4357 - val_accuracy: 0.5742\n",
            "Epoch 65/100\n",
            "8/8 [==============================] - 21s 3s/step - loss: 0.2631 - accuracy: 0.8925 - val_loss: 1.3985 - val_accuracy: 0.6484\n",
            "Epoch 66/100\n",
            "8/8 [==============================] - 21s 3s/step - loss: 0.2403 - accuracy: 0.9052 - val_loss: 1.9495 - val_accuracy: 0.6133\n",
            "Epoch 67/100\n",
            "8/8 [==============================] - 21s 3s/step - loss: 0.1737 - accuracy: 0.9426 - val_loss: 2.3866 - val_accuracy: 0.5820\n",
            "Epoch 68/100\n",
            "8/8 [==============================] - 21s 3s/step - loss: 0.1914 - accuracy: 0.9410 - val_loss: 2.9366 - val_accuracy: 0.5508\n",
            "Epoch 69/100\n",
            "8/8 [==============================] - 21s 3s/step - loss: 0.3110 - accuracy: 0.8444 - val_loss: 2.8060 - val_accuracy: 0.5625\n",
            "Epoch 70/100\n",
            "8/8 [==============================] - 21s 3s/step - loss: 0.1891 - accuracy: 0.9368 - val_loss: 1.8432 - val_accuracy: 0.5977\n",
            "Epoch 71/100\n",
            "8/8 [==============================] - 21s 3s/step - loss: 0.1999 - accuracy: 0.9259 - val_loss: 2.4196 - val_accuracy: 0.5859\n",
            "Epoch 72/100\n",
            "8/8 [==============================] - 21s 3s/step - loss: 0.1982 - accuracy: 0.9266 - val_loss: 2.5638 - val_accuracy: 0.5742\n",
            "Epoch 73/100\n",
            "8/8 [==============================] - 21s 3s/step - loss: 0.2395 - accuracy: 0.9090 - val_loss: 2.7016 - val_accuracy: 0.5664\n",
            "Epoch 74/100\n",
            "8/8 [==============================] - 21s 3s/step - loss: 0.1763 - accuracy: 0.9332 - val_loss: 2.5676 - val_accuracy: 0.5820\n",
            "Epoch 75/100\n",
            "8/8 [==============================] - 23s 3s/step - loss: 0.1789 - accuracy: 0.9281 - val_loss: 1.7399 - val_accuracy: 0.6602\n",
            "Epoch 76/100\n",
            "8/8 [==============================] - 21s 3s/step - loss: 0.2391 - accuracy: 0.9054 - val_loss: 2.2525 - val_accuracy: 0.6211\n",
            "Epoch 77/100\n",
            "8/8 [==============================] - 21s 3s/step - loss: 0.1647 - accuracy: 0.9371 - val_loss: 1.9604 - val_accuracy: 0.6523\n",
            "Epoch 78/100\n",
            "8/8 [==============================] - 21s 3s/step - loss: 0.2392 - accuracy: 0.9081 - val_loss: 2.4672 - val_accuracy: 0.5859\n",
            "Epoch 79/100\n",
            "8/8 [==============================] - 21s 3s/step - loss: 0.1744 - accuracy: 0.9287 - val_loss: 3.9502 - val_accuracy: 0.5312\n",
            "Epoch 80/100\n",
            "8/8 [==============================] - 21s 3s/step - loss: 0.3478 - accuracy: 0.8530 - val_loss: 2.2034 - val_accuracy: 0.6211\n",
            "Epoch 81/100\n",
            "8/8 [==============================] - 21s 3s/step - loss: 0.2403 - accuracy: 0.8800 - val_loss: 2.6129 - val_accuracy: 0.5820\n",
            "Epoch 82/100\n",
            "8/8 [==============================] - 21s 3s/step - loss: 0.1493 - accuracy: 0.9449 - val_loss: 2.3362 - val_accuracy: 0.6055\n",
            "Epoch 83/100\n",
            "8/8 [==============================] - 23s 3s/step - loss: 0.1500 - accuracy: 0.9446 - val_loss: 3.6505 - val_accuracy: 0.5234\n",
            "Epoch 84/100\n",
            "8/8 [==============================] - 21s 3s/step - loss: 0.2442 - accuracy: 0.9045 - val_loss: 2.4553 - val_accuracy: 0.6133\n",
            "Epoch 85/100\n",
            "8/8 [==============================] - 21s 3s/step - loss: 0.1970 - accuracy: 0.9258 - val_loss: 2.0558 - val_accuracy: 0.6328\n",
            "Epoch 86/100\n",
            "8/8 [==============================] - 23s 3s/step - loss: 0.1492 - accuracy: 0.9569 - val_loss: 2.0773 - val_accuracy: 0.6445\n",
            "Epoch 87/100\n",
            "8/8 [==============================] - 21s 3s/step - loss: 0.1910 - accuracy: 0.9317 - val_loss: 1.5961 - val_accuracy: 0.6641\n",
            "Epoch 88/100\n",
            "8/8 [==============================] - 21s 3s/step - loss: 0.1484 - accuracy: 0.9538 - val_loss: 3.3316 - val_accuracy: 0.5820\n",
            "Epoch 89/100\n",
            "8/8 [==============================] - 23s 3s/step - loss: 0.1934 - accuracy: 0.9237 - val_loss: 2.7958 - val_accuracy: 0.5703\n",
            "Epoch 90/100\n",
            "8/8 [==============================] - 21s 3s/step - loss: 0.1529 - accuracy: 0.9432 - val_loss: 3.8833 - val_accuracy: 0.5508\n",
            "Epoch 91/100\n",
            "8/8 [==============================] - 21s 3s/step - loss: 0.3178 - accuracy: 0.8804 - val_loss: 2.3855 - val_accuracy: 0.6250\n",
            "Epoch 92/100\n",
            "8/8 [==============================] - 21s 3s/step - loss: 0.1367 - accuracy: 0.9472 - val_loss: 2.4043 - val_accuracy: 0.6250\n",
            "Epoch 93/100\n",
            "8/8 [==============================] - 21s 3s/step - loss: 0.1318 - accuracy: 0.9507 - val_loss: 3.6230 - val_accuracy: 0.5508\n",
            "Epoch 94/100\n",
            "8/8 [==============================] - 21s 3s/step - loss: 0.2162 - accuracy: 0.9283 - val_loss: 2.9701 - val_accuracy: 0.5859\n",
            "Epoch 95/100\n",
            "8/8 [==============================] - 21s 3s/step - loss: 0.1450 - accuracy: 0.9505 - val_loss: 2.4773 - val_accuracy: 0.6211\n",
            "Epoch 96/100\n",
            "8/8 [==============================] - 23s 3s/step - loss: 0.1418 - accuracy: 0.9509 - val_loss: 2.8259 - val_accuracy: 0.6055\n",
            "Epoch 97/100\n",
            "8/8 [==============================] - 21s 3s/step - loss: 0.2354 - accuracy: 0.9004 - val_loss: 2.6086 - val_accuracy: 0.6133\n",
            "Epoch 98/100\n",
            "8/8 [==============================] - 21s 3s/step - loss: 0.1021 - accuracy: 0.9778 - val_loss: 3.3776 - val_accuracy: 0.5703\n",
            "Epoch 99/100\n",
            "8/8 [==============================] - 21s 3s/step - loss: 0.1373 - accuracy: 0.9470 - val_loss: 4.4934 - val_accuracy: 0.5078\n",
            "Epoch 100/100\n",
            "8/8 [==============================] - 21s 3s/step - loss: 0.3083 - accuracy: 0.8701 - val_loss: 2.0884 - val_accuracy: 0.6367\n"
          ],
          "name": "stdout"
        }
      ]
    },
    {
      "cell_type": "code",
      "metadata": {
        "id": "7zNPRWOVJdOH",
        "colab": {
          "base_uri": "https://localhost:8080/",
          "height": 545
        },
        "outputId": "cb0dabd2-0d0f-466e-f947-5d37b1ae7ded"
      },
      "source": [
        "import matplotlib.pyplot as plt\n",
        "acc = history.history['accuracy']\n",
        "val_acc = history.history['val_accuracy']\n",
        "loss = history.history['loss']\n",
        "val_loss = history.history['val_loss']\n",
        "\n",
        "epochs = range(len(acc))\n",
        "\n",
        "plt.plot(epochs, acc, 'r', label='Training accuracy')\n",
        "plt.plot(epochs, val_acc, 'b', label='Validation accuracy')\n",
        "plt.title('Training and validation accuracy')\n",
        "\n",
        "plt.figure()\n",
        "\n",
        "plt.plot(epochs, loss, 'r', label='Training Loss')\n",
        "plt.plot(epochs, val_loss, 'b', label='Validation Loss')\n",
        "plt.title('Training and validation loss')\n",
        "plt.legend()\n",
        "\n",
        "plt.show()"
      ],
      "execution_count": 7,
      "outputs": [
        {
          "output_type": "display_data",
          "data": {
            "image/png": "[encoded data removed]",
            "text/plain": [
              "<Figure size 432x288 with 1 Axes>"
            ]
          },
          "metadata": {
            "tags": [],
            "needs_background": "light"
          }
        },
        {
          "output_type": "display_data",
          "data": {
            "image/png": "[encoded data removed]",
            "text/plain": [
              "<Figure size 432x288 with 1 Axes>"
            ]
          },
          "metadata": {
            "tags": [],
            "needs_background": "light"
          }
        }
      ]
    }
  ]
}